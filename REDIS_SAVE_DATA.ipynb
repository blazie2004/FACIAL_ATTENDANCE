{
 "cells": [
  {
   "cell_type": "code",
   "execution_count": 1,
   "id": "04051e20-73e4-4022-82d0-0fc26c3e2689",
   "metadata": {},
   "outputs": [],
   "source": [
    "##NEW NOTEBOOK####\n"
   ]
  },
  {
   "cell_type": "code",
   "execution_count": 2,
   "id": "bcdaa6df-b800-4606-bab3-bb9a894be6a2",
   "metadata": {},
   "outputs": [],
   "source": [
    "import pandas as pd\n",
    "import numpy as np\n",
    "import redis"
   ]
  },
  {
   "cell_type": "code",
   "execution_count": 3,
   "id": "bd9bc792-374b-4e52-8f2b-033c44659020",
   "metadata": {},
   "outputs": [],
   "source": [
    "host_name='redis-17239.c85.us-east-1-2.ec2.cloud.redislabs.com'\n",
    "port=17239\n",
    "pwd='ZCojZ6VRsSIqMd3GPu5lJRDKAF1PALNS'"
   ]
  },
  {
   "cell_type": "code",
   "execution_count": 4,
   "id": "4fc0d661-c303-49a1-8311-b438e62e7e43",
   "metadata": {},
   "outputs": [],
   "source": [
    "r=redis.StrictRedis(host=host_name,port=port,password=pwd)"
   ]
  },
  {
   "cell_type": "code",
   "execution_count": 5,
   "id": "01ae3bd5-1ebb-4d73-ad5f-b75c18ecd283",
   "metadata": {},
   "outputs": [
    {
     "data": {
      "text/plain": [
       "True"
      ]
     },
     "execution_count": 5,
     "metadata": {},
     "output_type": "execute_result"
    }
   ],
   "source": [
    "r.ping()"
   ]
  },
  {
   "cell_type": "code",
   "execution_count": 5,
   "id": "d71e6fe0-245c-4496-8213-593afd28197a",
   "metadata": {},
   "outputs": [],
   "source": [
    "# r.ping was to check if the connection is correctly made or not"
   ]
  },
  {
   "cell_type": "code",
   "execution_count": 6,
   "id": "607deff8-8c65-4f0e-b964-cd286262db0b",
   "metadata": {},
   "outputs": [],
   "source": [
    "np_file=np.load('data_frame_compress2.npz',allow_pickle=True)"
   ]
  },
  {
   "cell_type": "code",
   "execution_count": 7,
   "id": "2186e818-9abd-464c-921b-5d0f500a4da4",
   "metadata": {},
   "outputs": [],
   "source": [
    "np_file.items()\n",
    "x_values=np_file['arr_0']\n",
    "col_names=np_file['arr_1']"
   ]
  },
  {
   "cell_type": "code",
   "execution_count": 8,
   "id": "495d8eb5-4f14-43bd-bb6a-3bf1dd450823",
   "metadata": {},
   "outputs": [],
   "source": [
    "df=pd.DataFrame(x_values,columns=col_names)"
   ]
  },
  {
   "cell_type": "code",
   "execution_count": 9,
   "id": "d82b5467-1a93-4108-86b6-8495044d4cc7",
   "metadata": {},
   "outputs": [
    {
     "data": {
      "text/html": [
       "<div>\n",
       "<style scoped>\n",
       "    .dataframe tbody tr th:only-of-type {\n",
       "        vertical-align: middle;\n",
       "    }\n",
       "\n",
       "    .dataframe tbody tr th {\n",
       "        vertical-align: top;\n",
       "    }\n",
       "\n",
       "    .dataframe thead th {\n",
       "        text-align: right;\n",
       "    }\n",
       "</style>\n",
       "<table border=\"1\" class=\"dataframe\">\n",
       "  <thead>\n",
       "    <tr style=\"text-align: right;\">\n",
       "      <th></th>\n",
       "      <th>name</th>\n",
       "      <th>role</th>\n",
       "      <th>features</th>\n",
       "    </tr>\n",
       "  </thead>\n",
       "  <tbody>\n",
       "    <tr>\n",
       "      <th>0</th>\n",
       "      <td>ANGELINA JOLIE</td>\n",
       "      <td>STUDENT</td>\n",
       "      <td>[0.1988192, 1.4748838, -0.097958855, -0.880505...</td>\n",
       "    </tr>\n",
       "    <tr>\n",
       "      <th>1</th>\n",
       "      <td>BARACK OBAMA</td>\n",
       "      <td>TEACHER</td>\n",
       "      <td>[-0.22177823, 1.5762169, -0.503078, 0.13601282...</td>\n",
       "    </tr>\n",
       "    <tr>\n",
       "      <th>2</th>\n",
       "      <td>CHRIS EVANS</td>\n",
       "      <td>STUDENT</td>\n",
       "      <td>[0.35691053, -0.41491055, 0.03921842, -0.15436...</td>\n",
       "    </tr>\n",
       "    <tr>\n",
       "      <th>3</th>\n",
       "      <td>MORGAN FREEMAN</td>\n",
       "      <td>TEACHER</td>\n",
       "      <td>[0.76278925, 0.89061487, 0.46873555, 0.2589808...</td>\n",
       "    </tr>\n",
       "    <tr>\n",
       "      <th>4</th>\n",
       "      <td>SCARLETT JOHANSSON</td>\n",
       "      <td>STUDENT</td>\n",
       "      <td>[-0.13535997, -0.2821385, -0.42700845, -0.2825...</td>\n",
       "    </tr>\n",
       "  </tbody>\n",
       "</table>\n",
       "</div>"
      ],
      "text/plain": [
       "                 name     role  \\\n",
       "0      ANGELINA JOLIE  STUDENT   \n",
       "1        BARACK OBAMA  TEACHER   \n",
       "2         CHRIS EVANS  STUDENT   \n",
       "3      MORGAN FREEMAN  TEACHER   \n",
       "4  SCARLETT JOHANSSON  STUDENT   \n",
       "\n",
       "                                            features  \n",
       "0  [0.1988192, 1.4748838, -0.097958855, -0.880505...  \n",
       "1  [-0.22177823, 1.5762169, -0.503078, 0.13601282...  \n",
       "2  [0.35691053, -0.41491055, 0.03921842, -0.15436...  \n",
       "3  [0.76278925, 0.89061487, 0.46873555, 0.2589808...  \n",
       "4  [-0.13535997, -0.2821385, -0.42700845, -0.2825...  "
      ]
     },
     "execution_count": 9,
     "metadata": {},
     "output_type": "execute_result"
    }
   ],
   "source": [
    "df"
   ]
  },
  {
   "cell_type": "code",
   "execution_count": 10,
   "id": "3fc241da-0398-445f-b63a-e66c29506bcc",
   "metadata": {},
   "outputs": [
    {
     "data": {
      "text/html": [
       "<div>\n",
       "<style scoped>\n",
       "    .dataframe tbody tr th:only-of-type {\n",
       "        vertical-align: middle;\n",
       "    }\n",
       "\n",
       "    .dataframe tbody tr th {\n",
       "        vertical-align: top;\n",
       "    }\n",
       "\n",
       "    .dataframe thead th {\n",
       "        text-align: right;\n",
       "    }\n",
       "</style>\n",
       "<table border=\"1\" class=\"dataframe\">\n",
       "  <thead>\n",
       "    <tr style=\"text-align: right;\">\n",
       "      <th></th>\n",
       "      <th>name</th>\n",
       "      <th>role</th>\n",
       "      <th>features</th>\n",
       "      <th>name_role</th>\n",
       "    </tr>\n",
       "  </thead>\n",
       "  <tbody>\n",
       "    <tr>\n",
       "      <th>0</th>\n",
       "      <td>ANGELINA JOLIE</td>\n",
       "      <td>STUDENT</td>\n",
       "      <td>[0.1988192, 1.4748838, -0.097958855, -0.880505...</td>\n",
       "      <td>ANGELINA JOLIE@STUDENT</td>\n",
       "    </tr>\n",
       "    <tr>\n",
       "      <th>1</th>\n",
       "      <td>BARACK OBAMA</td>\n",
       "      <td>TEACHER</td>\n",
       "      <td>[-0.22177823, 1.5762169, -0.503078, 0.13601282...</td>\n",
       "      <td>BARACK OBAMA@TEACHER</td>\n",
       "    </tr>\n",
       "    <tr>\n",
       "      <th>2</th>\n",
       "      <td>CHRIS EVANS</td>\n",
       "      <td>STUDENT</td>\n",
       "      <td>[0.35691053, -0.41491055, 0.03921842, -0.15436...</td>\n",
       "      <td>CHRIS EVANS@STUDENT</td>\n",
       "    </tr>\n",
       "    <tr>\n",
       "      <th>3</th>\n",
       "      <td>MORGAN FREEMAN</td>\n",
       "      <td>TEACHER</td>\n",
       "      <td>[0.76278925, 0.89061487, 0.46873555, 0.2589808...</td>\n",
       "      <td>MORGAN FREEMAN@TEACHER</td>\n",
       "    </tr>\n",
       "    <tr>\n",
       "      <th>4</th>\n",
       "      <td>SCARLETT JOHANSSON</td>\n",
       "      <td>STUDENT</td>\n",
       "      <td>[-0.13535997, -0.2821385, -0.42700845, -0.2825...</td>\n",
       "      <td>SCARLETT JOHANSSON@STUDENT</td>\n",
       "    </tr>\n",
       "  </tbody>\n",
       "</table>\n",
       "</div>"
      ],
      "text/plain": [
       "                 name     role  \\\n",
       "0      ANGELINA JOLIE  STUDENT   \n",
       "1        BARACK OBAMA  TEACHER   \n",
       "2         CHRIS EVANS  STUDENT   \n",
       "3      MORGAN FREEMAN  TEACHER   \n",
       "4  SCARLETT JOHANSSON  STUDENT   \n",
       "\n",
       "                                            features  \\\n",
       "0  [0.1988192, 1.4748838, -0.097958855, -0.880505...   \n",
       "1  [-0.22177823, 1.5762169, -0.503078, 0.13601282...   \n",
       "2  [0.35691053, -0.41491055, 0.03921842, -0.15436...   \n",
       "3  [0.76278925, 0.89061487, 0.46873555, 0.2589808...   \n",
       "4  [-0.13535997, -0.2821385, -0.42700845, -0.2825...   \n",
       "\n",
       "                    name_role  \n",
       "0      ANGELINA JOLIE@STUDENT  \n",
       "1        BARACK OBAMA@TEACHER  \n",
       "2         CHRIS EVANS@STUDENT  \n",
       "3      MORGAN FREEMAN@TEACHER  \n",
       "4  SCARLETT JOHANSSON@STUDENT  "
      ]
     },
     "execution_count": 10,
     "metadata": {},
     "output_type": "execute_result"
    }
   ],
   "source": [
    "df['name_role']=df['name']+'@'+df['role']\n",
    "df"
   ]
  },
  {
   "cell_type": "code",
   "execution_count": 12,
   "id": "af95cb96-8eed-4809-adc9-c49f35798e62",
   "metadata": {},
   "outputs": [],
   "source": [
    "records=df[['name_role','features']].to_dict(orient='records')"
   ]
  },
  {
   "cell_type": "code",
   "execution_count": 13,
   "id": "26917a62-3b64-416a-a29d-31a3c90156ef",
   "metadata": {},
   "outputs": [
    {
     "data": {
      "text/plain": [
       "5"
      ]
     },
     "execution_count": 13,
     "metadata": {},
     "output_type": "execute_result"
    }
   ],
   "source": [
    "len(records)"
   ]
  },
  {
   "cell_type": "code",
   "execution_count": 14,
   "id": "a675f9b6-3f41-449b-b25c-0924169bef28",
   "metadata": {},
   "outputs": [],
   "source": [
    "for record in records:\n",
    "        name_role=record['name_role']\n",
    "        vector=record['features']\n",
    "        vector_bytes=vector.tobytes()\n",
    "        r.hset(name='academy:reister2',key=name_role,value=vector_bytes)"
   ]
  },
  {
   "cell_type": "code",
   "execution_count": 15,
   "id": "2d19a9d8-763b-44bf-8831-180ed15f3876",
   "metadata": {},
   "outputs": [],
   "source": [
    "name='academy:reister2'\n",
    "retrive_dict=r.hgetall(name)\n",
    "retrive_series=pd.Series(retrive_dict)\n",
    "retrive_series=retrive_series.apply(lambda x:np.frombuffer(x,dtype=np.float32))\n",
    "index=retrive_series.index\n",
    "index= list(map(lambda x:x.decode(),index))\n",
    "retrive_series.index=index\n",
    "retrive_df=retrive_series.to_frame().reset_index()\n",
    "retrive_df.columns=['name_role','features']\n"
   ]
  },
  {
   "cell_type": "code",
   "execution_count": 16,
   "id": "0e910d23-3a59-43dc-83ad-2bfd47587e8b",
   "metadata": {},
   "outputs": [
    {
     "data": {
      "text/html": [
       "<div>\n",
       "<style scoped>\n",
       "    .dataframe tbody tr th:only-of-type {\n",
       "        vertical-align: middle;\n",
       "    }\n",
       "\n",
       "    .dataframe tbody tr th {\n",
       "        vertical-align: top;\n",
       "    }\n",
       "\n",
       "    .dataframe thead th {\n",
       "        text-align: right;\n",
       "    }\n",
       "</style>\n",
       "<table border=\"1\" class=\"dataframe\">\n",
       "  <thead>\n",
       "    <tr style=\"text-align: right;\">\n",
       "      <th></th>\n",
       "      <th>name_role</th>\n",
       "      <th>features</th>\n",
       "    </tr>\n",
       "  </thead>\n",
       "  <tbody>\n",
       "    <tr>\n",
       "      <th>0</th>\n",
       "      <td>BARACK OBAMA@TEACHER</td>\n",
       "      <td>[-0.22177823, 1.5762169, -0.503078, 0.13601282...</td>\n",
       "    </tr>\n",
       "    <tr>\n",
       "      <th>1</th>\n",
       "      <td>ANGELINA JOLIE@STUDENT</td>\n",
       "      <td>[0.1988192, 1.4748838, -0.097958855, -0.880505...</td>\n",
       "    </tr>\n",
       "    <tr>\n",
       "      <th>2</th>\n",
       "      <td>CHRIS EVANS@STUDENT</td>\n",
       "      <td>[0.35691053, -0.41491055, 0.03921842, -0.15436...</td>\n",
       "    </tr>\n",
       "    <tr>\n",
       "      <th>3</th>\n",
       "      <td>SCARLETT JOHANSSON@STUDENT</td>\n",
       "      <td>[-0.13535997, -0.2821385, -0.42700845, -0.2825...</td>\n",
       "    </tr>\n",
       "    <tr>\n",
       "      <th>4</th>\n",
       "      <td>MORGAN FREEMAN@TEACHER</td>\n",
       "      <td>[0.76278925, 0.89061487, 0.46873555, 0.2589808...</td>\n",
       "    </tr>\n",
       "  </tbody>\n",
       "</table>\n",
       "</div>"
      ],
      "text/plain": [
       "                    name_role  \\\n",
       "0        BARACK OBAMA@TEACHER   \n",
       "1      ANGELINA JOLIE@STUDENT   \n",
       "2         CHRIS EVANS@STUDENT   \n",
       "3  SCARLETT JOHANSSON@STUDENT   \n",
       "4      MORGAN FREEMAN@TEACHER   \n",
       "\n",
       "                                            features  \n",
       "0  [-0.22177823, 1.5762169, -0.503078, 0.13601282...  \n",
       "1  [0.1988192, 1.4748838, -0.097958855, -0.880505...  \n",
       "2  [0.35691053, -0.41491055, 0.03921842, -0.15436...  \n",
       "3  [-0.13535997, -0.2821385, -0.42700845, -0.2825...  \n",
       "4  [0.76278925, 0.89061487, 0.46873555, 0.2589808...  "
      ]
     },
     "execution_count": 16,
     "metadata": {},
     "output_type": "execute_result"
    }
   ],
   "source": [
    "retrive_df"
   ]
  },
  {
   "cell_type": "code",
   "execution_count": null,
   "id": "bfe3a958-c9b0-4341-be74-1206b9921c52",
   "metadata": {},
   "outputs": [],
   "source": []
  },
  {
   "cell_type": "code",
   "execution_count": null,
   "id": "828e15ed-a28d-4260-bfdb-021f3f3dcee3",
   "metadata": {},
   "outputs": [],
   "source": []
  },
  {
   "cell_type": "code",
   "execution_count": null,
   "id": "22f88f43-2184-45d0-bdd6-5774cd5beada",
   "metadata": {},
   "outputs": [],
   "source": []
  },
  {
   "cell_type": "code",
   "execution_count": null,
   "id": "641f4216-5e3d-4cb8-8964-9c8fd0622463",
   "metadata": {},
   "outputs": [],
   "source": []
  },
  {
   "cell_type": "code",
   "execution_count": 17,
   "id": "d867970c-89e7-44f8-a21e-acf1a3aa30a0",
   "metadata": {},
   "outputs": [
    {
     "data": {
      "text/html": [
       "<div>\n",
       "<style scoped>\n",
       "    .dataframe tbody tr th:only-of-type {\n",
       "        vertical-align: middle;\n",
       "    }\n",
       "\n",
       "    .dataframe tbody tr th {\n",
       "        vertical-align: top;\n",
       "    }\n",
       "\n",
       "    .dataframe thead th {\n",
       "        text-align: right;\n",
       "    }\n",
       "</style>\n",
       "<table border=\"1\" class=\"dataframe\">\n",
       "  <thead>\n",
       "    <tr style=\"text-align: right;\">\n",
       "      <th></th>\n",
       "      <th>name_role</th>\n",
       "      <th>features</th>\n",
       "    </tr>\n",
       "  </thead>\n",
       "  <tbody>\n",
       "    <tr>\n",
       "      <th>0</th>\n",
       "      <td>BARACK OBAMA@TEACHER</td>\n",
       "      <td>[-0.22177823, 1.5762169, -0.503078, 0.13601282...</td>\n",
       "    </tr>\n",
       "    <tr>\n",
       "      <th>1</th>\n",
       "      <td>ANGELINA JOLIE@STUDENT</td>\n",
       "      <td>[0.1988192, 1.4748838, -0.097958855, -0.880505...</td>\n",
       "    </tr>\n",
       "    <tr>\n",
       "      <th>2</th>\n",
       "      <td>CHRIS EVANS@STUDENT</td>\n",
       "      <td>[0.35691053, -0.41491055, 0.03921842, -0.15436...</td>\n",
       "    </tr>\n",
       "    <tr>\n",
       "      <th>3</th>\n",
       "      <td>SCARLETT JOHANSSON@STUDENT</td>\n",
       "      <td>[-0.13535997, -0.2821385, -0.42700845, -0.2825...</td>\n",
       "    </tr>\n",
       "    <tr>\n",
       "      <th>4</th>\n",
       "      <td>MORGAN FREEMAN@TEACHER</td>\n",
       "      <td>[0.76278925, 0.89061487, 0.46873555, 0.2589808...</td>\n",
       "    </tr>\n",
       "  </tbody>\n",
       "</table>\n",
       "</div>"
      ],
      "text/plain": [
       "                    name_role  \\\n",
       "0        BARACK OBAMA@TEACHER   \n",
       "1      ANGELINA JOLIE@STUDENT   \n",
       "2         CHRIS EVANS@STUDENT   \n",
       "3  SCARLETT JOHANSSON@STUDENT   \n",
       "4      MORGAN FREEMAN@TEACHER   \n",
       "\n",
       "                                            features  \n",
       "0  [-0.22177823, 1.5762169, -0.503078, 0.13601282...  \n",
       "1  [0.1988192, 1.4748838, -0.097958855, -0.880505...  \n",
       "2  [0.35691053, -0.41491055, 0.03921842, -0.15436...  \n",
       "3  [-0.13535997, -0.2821385, -0.42700845, -0.2825...  \n",
       "4  [0.76278925, 0.89061487, 0.46873555, 0.2589808...  "
      ]
     },
     "execution_count": 17,
     "metadata": {},
     "output_type": "execute_result"
    }
   ],
   "source": [
    "retrive_df"
   ]
  },
  {
   "cell_type": "code",
   "execution_count": 18,
   "id": "93bfc16e-6182-469c-ad14-73fe6f3dffd4",
   "metadata": {},
   "outputs": [],
   "source": [
    "import cv2\n",
    "import insightface\n",
    "import pandas as pd\n",
    "import numpy as np\n",
    "import redis"
   ]
  },
  {
   "cell_type": "code",
   "execution_count": 19,
   "id": "54ebc295-4ce4-4745-b489-612fd240d544",
   "metadata": {},
   "outputs": [],
   "source": [
    "from insightface.app import FaceAnalysis"
   ]
  },
  {
   "cell_type": "code",
   "execution_count": 20,
   "id": "c688981c-6925-4aca-86de-26ccff4993b8",
   "metadata": {},
   "outputs": [
    {
     "name": "stderr",
     "output_type": "stream",
     "text": [
      "C:\\Users\\Jay satish patel\\Desktop\\p_j\\attendance_system\\Lib\\site-packages\\onnxruntime\\capi\\onnxruntime_inference_collection.py:65: UserWarning: Specified provider 'CUDAExecutionProvider' is not in available provider names.Available providers: 'CPUExecutionProvider'\n",
      "  warnings.warn(\n"
     ]
    },
    {
     "name": "stdout",
     "output_type": "stream",
     "text": [
      "Applied providers: ['CPUExecutionProvider'], with options: {'CPUExecutionProvider': {}}\n",
      "find model: insight_model\\models\\buffalo_sc\\det_500m.onnx detection [1, 3, '?', '?'] 127.5 128.0\n",
      "Applied providers: ['CPUExecutionProvider'], with options: {'CPUExecutionProvider': {}}\n",
      "find model: insight_model\\models\\buffalo_sc\\w600k_mbf.onnx recognition ['None', 3, 112, 112] 127.5 127.5\n"
     ]
    }
   ],
   "source": [
    "Face_app=FaceAnalysis(name='buffalo_sc',root='insight_model',provides=['CUDAExecutionProvider','CPUExecutionProvider'])"
   ]
  },
  {
   "cell_type": "code",
   "execution_count": 21,
   "id": "34e52eae-6808-435f-8652-3534152dc480",
   "metadata": {},
   "outputs": [
    {
     "name": "stdout",
     "output_type": "stream",
     "text": [
      "set det-size: (640, 640)\n"
     ]
    }
   ],
   "source": [
    "Face_app.prepare(ctx_id=0,det_size=(640,640),det_thresh=0.5)"
   ]
  },
  {
   "cell_type": "code",
   "execution_count": 22,
   "id": "f11b72bf-e33e-4809-bfbb-30a0c1d35c79",
   "metadata": {},
   "outputs": [
    {
     "name": "stdin",
     "output_type": "stream",
     "text": [
      "enter the name of person JAYPATE\n",
      "please choose if you are \n",
      "    1.student\n",
      "    2.teacher\n",
      "    enter number 1 or 2 1\n"
     ]
    }
   ],
   "source": [
    "for i in range(3):\n",
    "    person_name=input(\"enter the name of person\")\n",
    "    role=input('''please choose if you are \n",
    "    1.student\n",
    "    2.teacher\n",
    "    enter number 1 or 2''')\n",
    "    if(role in('1','2')):\n",
    "        if(role=='1'):\n",
    "            role='STUDENT'\n",
    "        elif(role=='2'):\n",
    "            role='TEACHER'\n",
    "        break\n",
    "        \n",
    "    else:\n",
    "            print(\"invalid input,Try again\")\n",
    "       \n",
    "            \n",
    "\n"
   ]
  },
  {
   "cell_type": "code",
   "execution_count": 23,
   "id": "437320b0-9a76-4379-9bcf-36c4adb8771b",
   "metadata": {},
   "outputs": [],
   "source": [
    "key=person_name+'@'+role\n"
   ]
  },
  {
   "cell_type": "code",
   "execution_count": 24,
   "id": "9eb03fc3-1a66-47fa-b517-992932b5eb63",
   "metadata": {},
   "outputs": [],
   "source": [
    "import cv2\n",
    " # Import the FaceApp module (if it's a custom module)\n",
    "\n",
    "cap = cv2.VideoCapture(0)\n",
    "face_embedding = []\n",
    "sample = 0\n",
    "\n",
    "# Create an instance of FaceApp (assuming it's a custom class)\n",
    "\n",
    "\n",
    "while True:\n",
    "    ret, frame = cap.read()\n",
    "\n",
    "    if not ret:\n",
    "        print('Camera not opened')\n",
    "        break\n",
    "\n",
    "    # Assuming FaceApp.get() returns a list of face detections\n",
    "    result = Face_app.get(frame, max_num=1)\n",
    "    \n",
    "    for res in result:\n",
    "        x1, y1, x2, y2 = res['bbox']  # Extract bounding box coordinates\n",
    "        x1, y1, x2, y2 = int(x1), int(y1), int(x2), int(y2)  # Convert to integers\n",
    "        frame = cv2.rectangle(frame, (x1, y1), (x2, y2), (0, 255, 0), 1)\n",
    "        embed = res['embedding']\n",
    "        face_embedding.append(embed)\n",
    "        sample = sample + 1\n",
    "\n",
    "    if sample >= 200:\n",
    "        break\n",
    "\n",
    "    cv2.imshow('frame', frame)\n",
    "    if cv2.waitKey(1) == ord('q'):\n",
    "        break\n",
    "\n",
    "cap.release()\n",
    "cv2.destroyAllWindows()\n"
   ]
  },
  {
   "cell_type": "code",
   "execution_count": 25,
   "id": "7e987797-39a2-4815-8e80-5caa7a37c4c5",
   "metadata": {},
   "outputs": [
    {
     "data": {
      "text/plain": [
       "200"
      ]
     },
     "execution_count": 25,
     "metadata": {},
     "output_type": "execute_result"
    }
   ],
   "source": [
    "len(face_embedding)"
   ]
  },
  {
   "cell_type": "code",
   "execution_count": 26,
   "id": "b42ba613-7f09-48d8-bcf2-ad2f3c0b0f0a",
   "metadata": {},
   "outputs": [
    {
     "data": {
      "text/plain": [
       "(512,)"
      ]
     },
     "execution_count": 26,
     "metadata": {},
     "output_type": "execute_result"
    }
   ],
   "source": [
    "x_mean=np.asarray(face_embedding).mean(axis=0)\n",
    "x_mean.shape"
   ]
  },
  {
   "cell_type": "code",
   "execution_count": 27,
   "id": "6cb758da-5331-4133-8360-46c3b26b293d",
   "metadata": {},
   "outputs": [],
   "source": [
    "x_mean_bytes=x_mean.tobytes()"
   ]
  },
  {
   "cell_type": "code",
   "execution_count": 30,
   "id": "fedbe429-81ed-4c61-a017-883b629f7299",
   "metadata": {},
   "outputs": [
    {
     "data": {
      "text/plain": [
       "1"
      ]
     },
     "execution_count": 30,
     "metadata": {},
     "output_type": "execute_result"
    }
   ],
   "source": [
    "r.hset(name='academy:reister2', key=key, value=x_mean_bytes)\n"
   ]
  },
  {
   "cell_type": "code",
   "execution_count": 33,
   "id": "562e9f1e-6541-424b-a07e-fc0d7fadb194",
   "metadata": {},
   "outputs": [
    {
     "data": {
      "text/html": [
       "<div>\n",
       "<style scoped>\n",
       "    .dataframe tbody tr th:only-of-type {\n",
       "        vertical-align: middle;\n",
       "    }\n",
       "\n",
       "    .dataframe tbody tr th {\n",
       "        vertical-align: top;\n",
       "    }\n",
       "\n",
       "    .dataframe thead th {\n",
       "        text-align: right;\n",
       "    }\n",
       "</style>\n",
       "<table border=\"1\" class=\"dataframe\">\n",
       "  <thead>\n",
       "    <tr style=\"text-align: right;\">\n",
       "      <th></th>\n",
       "      <th>name_role</th>\n",
       "      <th>features</th>\n",
       "    </tr>\n",
       "  </thead>\n",
       "  <tbody>\n",
       "    <tr>\n",
       "      <th>0</th>\n",
       "      <td>BARACK OBAMA@TEACHER</td>\n",
       "      <td>[-0.22177823, 1.5762169, -0.503078, 0.13601282...</td>\n",
       "    </tr>\n",
       "    <tr>\n",
       "      <th>1</th>\n",
       "      <td>ANGELINA JOLIE@STUDENT</td>\n",
       "      <td>[0.1988192, 1.4748838, -0.097958855, -0.880505...</td>\n",
       "    </tr>\n",
       "    <tr>\n",
       "      <th>2</th>\n",
       "      <td>CHRIS EVANS@STUDENT</td>\n",
       "      <td>[0.35691053, -0.41491055, 0.03921842, -0.15436...</td>\n",
       "    </tr>\n",
       "    <tr>\n",
       "      <th>3</th>\n",
       "      <td>SCARLETT JOHANSSON@STUDENT</td>\n",
       "      <td>[-0.13535997, -0.2821385, -0.42700845, -0.2825...</td>\n",
       "    </tr>\n",
       "    <tr>\n",
       "      <th>4</th>\n",
       "      <td>MORGAN FREEMAN@TEACHER</td>\n",
       "      <td>[0.76278925, 0.89061487, 0.46873555, 0.2589808...</td>\n",
       "    </tr>\n",
       "  </tbody>\n",
       "</table>\n",
       "</div>"
      ],
      "text/plain": [
       "                    name_role  \\\n",
       "0        BARACK OBAMA@TEACHER   \n",
       "1      ANGELINA JOLIE@STUDENT   \n",
       "2         CHRIS EVANS@STUDENT   \n",
       "3  SCARLETT JOHANSSON@STUDENT   \n",
       "4      MORGAN FREEMAN@TEACHER   \n",
       "\n",
       "                                            features  \n",
       "0  [-0.22177823, 1.5762169, -0.503078, 0.13601282...  \n",
       "1  [0.1988192, 1.4748838, -0.097958855, -0.880505...  \n",
       "2  [0.35691053, -0.41491055, 0.03921842, -0.15436...  \n",
       "3  [-0.13535997, -0.2821385, -0.42700845, -0.2825...  \n",
       "4  [0.76278925, 0.89061487, 0.46873555, 0.2589808...  "
      ]
     },
     "execution_count": 33,
     "metadata": {},
     "output_type": "execute_result"
    }
   ],
   "source": [
    "retrive_df"
   ]
  },
  {
   "cell_type": "code",
   "execution_count": null,
   "id": "c2b07708-655f-4caf-a7a3-49cb9e1e2598",
   "metadata": {},
   "outputs": [],
   "source": []
  },
  {
   "cell_type": "code",
   "execution_count": null,
   "id": "29a4482d-bb87-4b96-a84f-35a0f7e136c6",
   "metadata": {},
   "outputs": [],
   "source": []
  },
  {
   "cell_type": "code",
   "execution_count": null,
   "id": "bf55be36-5989-4e87-b333-abe858ef12d2",
   "metadata": {},
   "outputs": [],
   "source": []
  },
  {
   "cell_type": "code",
   "execution_count": null,
   "id": "fbbd1186-0901-4f01-b8a8-39f6f441cdc8",
   "metadata": {},
   "outputs": [],
   "source": []
  },
  {
   "cell_type": "code",
   "execution_count": null,
   "id": "e2d6c9bf-61d3-4ec0-9cff-a3e34690e105",
   "metadata": {},
   "outputs": [],
   "source": []
  }
 ],
 "metadata": {
  "kernelspec": {
   "display_name": "Python 3 (ipykernel)",
   "language": "python",
   "name": "python3"
  },
  "language_info": {
   "codemirror_mode": {
    "name": "ipython",
    "version": 3
   },
   "file_extension": ".py",
   "mimetype": "text/x-python",
   "name": "python",
   "nbconvert_exporter": "python",
   "pygments_lexer": "ipython3",
   "version": "3.11.4"
  }
 },
 "nbformat": 4,
 "nbformat_minor": 5
}
