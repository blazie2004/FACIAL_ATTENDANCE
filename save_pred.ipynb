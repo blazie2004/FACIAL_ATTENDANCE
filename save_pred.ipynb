{
 "cells": [
  {
   "cell_type": "code",
   "execution_count": 1,
   "id": "29a93f38-0485-4946-8e02-59ea4b684d89",
   "metadata": {},
   "outputs": [
    {
     "name": "stdout",
     "output_type": "stream",
     "text": [
      "Applied providers: ['CPUExecutionProvider'], with options: {'CPUExecutionProvider': {}}\n",
      "find model: insight_model\\models\\buffalo_sc\\det_500m.onnx detection [1, 3, '?', '?'] 127.5 128.0\n",
      "Applied providers: ['CPUExecutionProvider'], with options: {'CPUExecutionProvider': {}}\n",
      "find model: insight_model\\models\\buffalo_sc\\w600k_mbf.onnx recognition ['None', 3, 112, 112] 127.5 127.5\n",
      "set det-size: (640, 640)\n"
     ]
    }
   ],
   "source": [
    "import face_recg"
   ]
  },
  {
   "cell_type": "code",
   "execution_count": 2,
   "id": "42731b7e-ae42-428f-a931-0d33745de23d",
   "metadata": {},
   "outputs": [
    {
     "data": {
      "text/plain": [
       "True"
      ]
     },
     "execution_count": 2,
     "metadata": {},
     "output_type": "execute_result"
    }
   ],
   "source": [
    "face_recg.r.ping()"
   ]
  },
  {
   "cell_type": "markdown",
   "id": "408e844e-56ca-4923-8a17-af5c95a93cff",
   "metadata": {},
   "source": [
    "# extract data from  database"
   ]
  },
  {
   "cell_type": "code",
   "execution_count": 3,
   "id": "960a68a2-8e23-43ce-bb28-7ea626b9b505",
   "metadata": {},
   "outputs": [],
   "source": [
    "import pandas as pd\n",
    "import numpy as np\n",
    "import cv2\n",
    "name='academy:reister2'\n",
    "retrive_dict=face_recg.r.hgetall(name)\n",
    "retrive_series=pd.Series(retrive_dict)\n",
    "retrive_series=retrive_series.apply(lambda x:np.frombuffer(x,dtype=np.float32))\n",
    "index=retrive_series.index\n",
    "index= list(map(lambda x:x.decode(),index))\n",
    "retrive_series.index=index\n",
    "retrive_df=retrive_series.to_frame().reset_index()\n"
   ]
  },
  {
   "cell_type": "code",
   "execution_count": 4,
   "id": "cd9236e0-3032-4672-b547-007deb8edb9e",
   "metadata": {},
   "outputs": [
    {
     "name": "stderr",
     "output_type": "stream",
     "text": [
      "C:\\Users\\Jay satish patel\\AppData\\Local\\Temp\\ipykernel_2744\\298510173.py:2: FutureWarning: Returning a DataFrame from Series.apply when the supplied function returns a Series is deprecated and will be removed in a future version.\n",
      "  retrive_df[['Name','Role']]=retrive_df['name_role'].apply(lambda x:x.split('@')).apply(pd.Series)\n"
     ]
    }
   ],
   "source": [
    "\n",
    "retrive_df.columns=['name_role','features']\n",
    "retrive_df[['Name','Role']]=retrive_df['name_role'].apply(lambda x:x.split('@')).apply(pd.Series)\n"
   ]
  },
  {
   "cell_type": "code",
   "execution_count": 5,
   "id": "62dc4890-557e-445e-b95f-62cc3f8342db",
   "metadata": {},
   "outputs": [
    {
     "data": {
      "text/html": [
       "<div>\n",
       "<style scoped>\n",
       "    .dataframe tbody tr th:only-of-type {\n",
       "        vertical-align: middle;\n",
       "    }\n",
       "\n",
       "    .dataframe tbody tr th {\n",
       "        vertical-align: top;\n",
       "    }\n",
       "\n",
       "    .dataframe thead th {\n",
       "        text-align: right;\n",
       "    }\n",
       "</style>\n",
       "<table border=\"1\" class=\"dataframe\">\n",
       "  <thead>\n",
       "    <tr style=\"text-align: right;\">\n",
       "      <th></th>\n",
       "      <th>name_role</th>\n",
       "      <th>features</th>\n",
       "      <th>Name</th>\n",
       "      <th>Role</th>\n",
       "    </tr>\n",
       "  </thead>\n",
       "  <tbody>\n",
       "    <tr>\n",
       "      <th>0</th>\n",
       "      <td>BARACK OBAMA@TEACHER</td>\n",
       "      <td>[-0.22177823, 1.5762169, -0.503078, 0.13601282...</td>\n",
       "      <td>BARACK OBAMA</td>\n",
       "      <td>TEACHER</td>\n",
       "    </tr>\n",
       "    <tr>\n",
       "      <th>1</th>\n",
       "      <td>ANGELINA JOLIE@STUDENT</td>\n",
       "      <td>[0.1988192, 1.4748838, -0.097958855, -0.880505...</td>\n",
       "      <td>ANGELINA JOLIE</td>\n",
       "      <td>STUDENT</td>\n",
       "    </tr>\n",
       "    <tr>\n",
       "      <th>2</th>\n",
       "      <td>JAYPATE@STUDENT</td>\n",
       "      <td>[-0.2927573, -0.33238643, 0.3353292, 1.079968,...</td>\n",
       "      <td>JAYPATE</td>\n",
       "      <td>STUDENT</td>\n",
       "    </tr>\n",
       "    <tr>\n",
       "      <th>3</th>\n",
       "      <td>CHRIS EVANS@STUDENT</td>\n",
       "      <td>[0.35691053, -0.41491055, 0.03921842, -0.15436...</td>\n",
       "      <td>CHRIS EVANS</td>\n",
       "      <td>STUDENT</td>\n",
       "    </tr>\n",
       "    <tr>\n",
       "      <th>4</th>\n",
       "      <td>SCARLETT JOHANSSON@STUDENT</td>\n",
       "      <td>[-0.13535997, -0.2821385, -0.42700845, -0.2825...</td>\n",
       "      <td>SCARLETT JOHANSSON</td>\n",
       "      <td>STUDENT</td>\n",
       "    </tr>\n",
       "    <tr>\n",
       "      <th>5</th>\n",
       "      <td>MORGAN FREEMAN@TEACHER</td>\n",
       "      <td>[0.76278925, 0.89061487, 0.46873555, 0.2589808...</td>\n",
       "      <td>MORGAN FREEMAN</td>\n",
       "      <td>TEACHER</td>\n",
       "    </tr>\n",
       "  </tbody>\n",
       "</table>\n",
       "</div>"
      ],
      "text/plain": [
       "                    name_role  \\\n",
       "0        BARACK OBAMA@TEACHER   \n",
       "1      ANGELINA JOLIE@STUDENT   \n",
       "2             JAYPATE@STUDENT   \n",
       "3         CHRIS EVANS@STUDENT   \n",
       "4  SCARLETT JOHANSSON@STUDENT   \n",
       "5      MORGAN FREEMAN@TEACHER   \n",
       "\n",
       "                                            features                Name  \\\n",
       "0  [-0.22177823, 1.5762169, -0.503078, 0.13601282...        BARACK OBAMA   \n",
       "1  [0.1988192, 1.4748838, -0.097958855, -0.880505...      ANGELINA JOLIE   \n",
       "2  [-0.2927573, -0.33238643, 0.3353292, 1.079968,...             JAYPATE   \n",
       "3  [0.35691053, -0.41491055, 0.03921842, -0.15436...         CHRIS EVANS   \n",
       "4  [-0.13535997, -0.2821385, -0.42700845, -0.2825...  SCARLETT JOHANSSON   \n",
       "5  [0.76278925, 0.89061487, 0.46873555, 0.2589808...      MORGAN FREEMAN   \n",
       "\n",
       "      Role  \n",
       "0  TEACHER  \n",
       "1  STUDENT  \n",
       "2  STUDENT  \n",
       "3  STUDENT  \n",
       "4  STUDENT  \n",
       "5  TEACHER  "
      ]
     },
     "execution_count": 5,
     "metadata": {},
     "output_type": "execute_result"
    }
   ],
   "source": [
    "retrive_df\n"
   ]
  },
  {
   "cell_type": "code",
   "execution_count": null,
   "id": "574805f6-8e76-4e07-9550-23c19d86d728",
   "metadata": {},
   "outputs": [],
   "source": [
    "\n"
   ]
  },
  {
   "cell_type": "code",
   "execution_count": 6,
   "id": "7809d4c1-fe70-4f1f-b917-f892ddfd6129",
   "metadata": {},
   "outputs": [],
   "source": [
    "import cv2\n",
    "\n",
    "# Open the camera (camera index 0)\n",
    "cap = cv2.VideoCapture(0)\n",
    "\n",
    "while True:\n",
    "    # Read a frame from the camera\n",
    "    ret, frame = cap.read()  # Changed '==' to '=' here\n",
    "    \n",
    "    if not ret:  # Simplified the condition\n",
    "        break\n",
    "    \n",
    "    # Assuming you have a function called 'facerecg.prediction'\n",
    "    # and the necessary imports and setup for it\n",
    "    pred = face_recg.prediction(frame, retrive_df, 'features', ['Name', 'Role'], cosine_optimal=0.5)\n",
    "    \n",
    "    cv2.imshow('predictions', pred)  # Changed 'predicitions' to 'predictions'\n",
    "    \n",
    "    if cv2.waitKey(1) == 27:  # 27 is the ASCII code for the 'Esc' key\n",
    "        break\n",
    "\n",
    "# Release the camera and close all OpenCV windows\n",
    "\n",
    "cv2.destroyAllWindows()\n",
    "cap.release()\n"
   ]
  },
  {
   "cell_type": "code",
   "execution_count": null,
   "id": "4438887f-e6b1-4cc4-a528-13021cfa40a5",
   "metadata": {},
   "outputs": [],
   "source": []
  },
  {
   "cell_type": "code",
   "execution_count": null,
   "id": "2dae8b12-cbe0-4626-a51e-083243446437",
   "metadata": {},
   "outputs": [],
   "source": []
  }
 ],
 "metadata": {
  "kernelspec": {
   "display_name": "Python 3 (ipykernel)",
   "language": "python",
   "name": "python3"
  },
  "language_info": {
   "codemirror_mode": {
    "name": "ipython",
    "version": 3
   },
   "file_extension": ".py",
   "mimetype": "text/x-python",
   "name": "python",
   "nbconvert_exporter": "python",
   "pygments_lexer": "ipython3",
   "version": "3.11.4"
  }
 },
 "nbformat": 4,
 "nbformat_minor": 5
}
